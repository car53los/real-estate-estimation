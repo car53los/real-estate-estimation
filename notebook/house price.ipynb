{
 "cells": [
  {
   "cell_type": "markdown",
   "metadata": {},
   "source": [
    "### 1.データの取得\n",
    "- データの読み込み\n",
    "- 特徴量Xと正解ラベルyの設定"
   ]
  },
  {
   "cell_type": "markdown",
   "metadata": {},
   "source": [
    "#### ・データの読み込み"
   ]
  },
  {
   "cell_type": "code",
   "execution_count": 393,
   "metadata": {},
   "outputs": [],
   "source": [
    "import numpy as np\n",
    "import pandas as pd\n",
    "import matplotlib.pyplot as plt\n",
    "import seaborn as sns\n",
    "\n",
    "train = pd.read_csv('./input/train.csv')\n",
    "test = pd.read_csv('./input/test.csv')"
   ]
  },
  {
   "cell_type": "markdown",
   "metadata": {},
   "source": [
    "#### ・特徴量Xと正解ラベルyの設定"
   ]
  },
  {
   "cell_type": "code",
   "execution_count": 394,
   "metadata": {},
   "outputs": [],
   "source": [
    "x_train = train.iloc[:,1:-1]\n",
    "x_test = test.iloc[:,1:]\n",
    "y_train = train['SalePrice']"
   ]
  },
  {
   "cell_type": "code",
   "execution_count": 395,
   "metadata": {},
   "outputs": [],
   "source": [
    "x_train['Flg'] = 0\n",
    "x_test['Flg'] = 1\n",
    "x = pd.concat([x_train,x_test],sort=False)"
   ]
  },
  {
   "cell_type": "code",
   "execution_count": 396,
   "metadata": {},
   "outputs": [],
   "source": [
    "# train['SaleCondition'].unique()\n",
    "# train2 = train.copy()\n",
    "# train2.drop('SalePrice',axis=1,inplace=True)"
   ]
  },
  {
   "cell_type": "markdown",
   "metadata": {},
   "source": [
    "### 2.データの分析\n",
    "- 欠損状況の確認\n",
    "- 基本統計量の確認"
   ]
  },
  {
   "cell_type": "code",
   "execution_count": 397,
   "metadata": {},
   "outputs": [],
   "source": [
    "# print(x.dtypes)"
   ]
  },
  {
   "cell_type": "code",
   "execution_count": 398,
   "metadata": {},
   "outputs": [
    {
     "data": {
      "text/plain": [
       "0"
      ]
     },
     "execution_count": 398,
     "metadata": {},
     "output_type": "execute_result"
    }
   ],
   "source": [
    "y_train.isnull().sum()"
   ]
  },
  {
   "cell_type": "code",
   "execution_count": 399,
   "metadata": {
    "scrolled": true
   },
   "outputs": [
    {
     "name": "stdout",
     "output_type": "stream",
     "text": [
      "0 : MSSubClass : int64\n",
      "種類：16、最小値：20.000000、最大値：190.000000、欠損データ有無：0\n",
      "1 : MSZoning : object\n",
      "['RL', 'RM', 'C (all)', 'FV', 'RH', nan]\n",
      "2 : LotFrontage : float64\n",
      "種類：129、最小値：21.000000、最大値：313.000000、欠損データ有無：486\n",
      "3 : LotArea : int64\n",
      "種類：1951、最小値：1300.000000、最大値：215245.000000、欠損データ有無：0\n",
      "4 : Street : object\n",
      "['Pave', 'Grvl']\n",
      "5 : Alley : object\n",
      "[nan, 'Grvl', 'Pave']\n",
      "6 : LotShape : object\n",
      "['Reg', 'IR1', 'IR2', 'IR3']\n",
      "7 : LandContour : object\n",
      "['Lvl', 'Bnk', 'Low', 'HLS']\n",
      "8 : Utilities : object\n",
      "['AllPub', 'NoSeWa', nan]\n",
      "9 : LotConfig : object\n",
      "['Inside', 'FR2', 'Corner', 'CulDSac', 'FR3']\n",
      "10 : LandSlope : object\n",
      "['Gtl', 'Mod', 'Sev']\n",
      "11 : Neighborhood : object\n",
      "['CollgCr', 'Veenker', 'Crawfor', 'NoRidge', 'Mitchel', 'Somerst', 'NWAmes', 'OldTown', 'BrkSide', 'Sawyer', 'NridgHt', 'NAmes', 'SawyerW', 'IDOTRR', 'MeadowV', 'Edwards', 'Timber', 'Gilbert', 'StoneBr', 'ClearCr', 'NPkVill', 'Blmngtn', 'BrDale', 'SWISU', 'Blueste']\n",
      "12 : Condition1 : object\n",
      "['Norm', 'Feedr', 'PosN', 'Artery', 'RRAe', 'RRNn', 'RRAn', 'PosA', 'RRNe']\n",
      "13 : Condition2 : object\n",
      "['Norm', 'Artery', 'RRNn', 'Feedr', 'PosN', 'PosA', 'RRAn', 'RRAe']\n",
      "14 : BldgType : object\n",
      "['1Fam', '2fmCon', 'Duplex', 'TwnhsE', 'Twnhs']\n",
      "15 : HouseStyle : object\n",
      "['2Story', '1Story', '1.5Fin', '1.5Unf', 'SFoyer', 'SLvl', '2.5Unf', '2.5Fin']\n",
      "16 : OverallQual : int64\n",
      "種類：10、最小値：1.000000、最大値：10.000000、欠損データ有無：0\n",
      "17 : OverallCond : int64\n",
      "種類：9、最小値：1.000000、最大値：9.000000、欠損データ有無：0\n",
      "18 : YearBuilt : int64\n",
      "種類：118、最小値：1872.000000、最大値：2010.000000、欠損データ有無：0\n",
      "19 : YearRemodAdd : int64\n",
      "種類：61、最小値：1950.000000、最大値：2010.000000、欠損データ有無：0\n",
      "20 : RoofStyle : object\n",
      "['Gable', 'Hip', 'Gambrel', 'Mansard', 'Flat', 'Shed']\n",
      "21 : RoofMatl : object\n",
      "['CompShg', 'WdShngl', 'Metal', 'WdShake', 'Membran', 'Tar&Grv', 'Roll', 'ClyTile']\n",
      "22 : Exterior1st : object\n",
      "['VinylSd', 'MetalSd', 'Wd Sdng', 'HdBoard', 'BrkFace', 'WdShing', 'CemntBd', 'Plywood', 'AsbShng', 'Stucco', 'BrkComm', 'AsphShn', 'Stone', 'ImStucc', 'CBlock', nan]\n",
      "23 : Exterior2nd : object\n",
      "['VinylSd', 'MetalSd', 'Wd Shng', 'HdBoard', 'Plywood', 'Wd Sdng', 'CmentBd', 'BrkFace', 'Stucco', 'AsbShng', 'Brk Cmn', 'ImStucc', 'AsphShn', 'Stone', 'Other', 'CBlock', nan]\n",
      "24 : MasVnrType : object\n",
      "['BrkFace', 'None', 'Stone', 'BrkCmn', nan]\n",
      "25 : MasVnrArea : float64\n",
      "種類：445、最小値：0.000000、最大値：1600.000000、欠損データ有無：23\n",
      "26 : ExterQual : object\n",
      "['Gd', 'TA', 'Ex', 'Fa']\n",
      "27 : ExterCond : object\n",
      "['TA', 'Gd', 'Fa', 'Po', 'Ex']\n",
      "28 : Foundation : object\n",
      "['PConc', 'CBlock', 'BrkTil', 'Wood', 'Slab', 'Stone']\n",
      "29 : BsmtQual : object\n",
      "['Gd', 'TA', 'Ex', nan, 'Fa']\n",
      "30 : BsmtCond : object\n",
      "['TA', 'Gd', nan, 'Fa', 'Po']\n",
      "31 : BsmtExposure : object\n",
      "['No', 'Gd', 'Mn', 'Av', nan]\n",
      "32 : BsmtFinType1 : object\n",
      "['GLQ', 'ALQ', 'Unf', 'Rec', 'BLQ', nan, 'LwQ']\n",
      "33 : BsmtFinSF1 : float64\n",
      "種類：992、最小値：0.000000、最大値：5644.000000、欠損データ有無：1\n",
      "34 : BsmtFinType2 : object\n",
      "['Unf', 'BLQ', nan, 'ALQ', 'Rec', 'LwQ', 'GLQ']\n",
      "35 : BsmtFinSF2 : float64\n",
      "種類：273、最小値：0.000000、最大値：1526.000000、欠損データ有無：1\n",
      "36 : BsmtUnfSF : float64\n",
      "種類：1136、最小値：0.000000、最大値：2336.000000、欠損データ有無：1\n",
      "37 : TotalBsmtSF : float64\n",
      "種類：1059、最小値：0.000000、最大値：6110.000000、欠損データ有無：1\n",
      "38 : Heating : object\n",
      "['GasA', 'GasW', 'Grav', 'Wall', 'OthW', 'Floor']\n",
      "39 : HeatingQC : object\n",
      "['Ex', 'Gd', 'TA', 'Fa', 'Po']\n",
      "40 : CentralAir : object\n",
      "['Y', 'N']\n",
      "41 : Electrical : object\n",
      "['SBrkr', 'FuseF', 'FuseA', 'FuseP', 'Mix', nan]\n",
      "42 : 1stFlrSF : int64\n",
      "種類：1083、最小値：334.000000、最大値：5095.000000、欠損データ有無：0\n",
      "43 : 2ndFlrSF : int64\n",
      "種類：635、最小値：0.000000、最大値：2065.000000、欠損データ有無：0\n",
      "44 : LowQualFinSF : int64\n",
      "種類：36、最小値：0.000000、最大値：1064.000000、欠損データ有無：0\n",
      "45 : GrLivArea : int64\n",
      "種類：1292、最小値：334.000000、最大値：5642.000000、欠損データ有無：0\n",
      "46 : BsmtFullBath : float64\n",
      "種類：5、最小値：0.000000、最大値：3.000000、欠損データ有無：2\n",
      "47 : BsmtHalfBath : float64\n",
      "種類：4、最小値：0.000000、最大値：2.000000、欠損データ有無：2\n",
      "48 : FullBath : int64\n",
      "種類：5、最小値：0.000000、最大値：4.000000、欠損データ有無：0\n",
      "49 : HalfBath : int64\n",
      "種類：3、最小値：0.000000、最大値：2.000000、欠損データ有無：0\n",
      "50 : BedroomAbvGr : int64\n",
      "種類：8、最小値：0.000000、最大値：8.000000、欠損データ有無：0\n",
      "51 : KitchenAbvGr : int64\n",
      "種類：4、最小値：0.000000、最大値：3.000000、欠損データ有無：0\n",
      "52 : KitchenQual : object\n",
      "['Gd', 'TA', 'Ex', 'Fa', nan]\n",
      "53 : TotRmsAbvGrd : int64\n",
      "種類：14、最小値：2.000000、最大値：15.000000、欠損データ有無：0\n",
      "54 : Functional : object\n",
      "['Typ', 'Min1', 'Maj1', 'Min2', 'Mod', 'Maj2', 'Sev', nan]\n",
      "55 : Fireplaces : int64\n",
      "種類：5、最小値：0.000000、最大値：4.000000、欠損データ有無：0\n",
      "56 : FireplaceQu : object\n",
      "[nan, 'TA', 'Gd', 'Fa', 'Ex', 'Po']\n",
      "57 : GarageType : object\n",
      "['Attchd', 'Detchd', 'BuiltIn', 'CarPort', nan, 'Basment', '2Types']\n",
      "58 : GarageYrBlt : float64\n",
      "種類：104、最小値：1895.000000、最大値：2207.000000、欠損データ有無：159\n",
      "59 : GarageFinish : object\n",
      "['RFn', 'Unf', 'Fin', nan]\n",
      "60 : GarageCars : float64\n",
      "種類：7、最小値：0.000000、最大値：5.000000、欠損データ有無：1\n",
      "61 : GarageArea : float64\n",
      "種類：604、最小値：0.000000、最大値：1488.000000、欠損データ有無：1\n",
      "62 : GarageQual : object\n",
      "['TA', 'Fa', 'Gd', nan, 'Ex', 'Po']\n",
      "63 : GarageCond : object\n",
      "['TA', 'Fa', nan, 'Gd', 'Po', 'Ex']\n",
      "64 : PavedDrive : object\n",
      "['Y', 'N', 'P']\n",
      "65 : WoodDeckSF : int64\n",
      "種類：379、最小値：0.000000、最大値：1424.000000、欠損データ有無：0\n",
      "66 : OpenPorchSF : int64\n",
      "種類：252、最小値：0.000000、最大値：742.000000、欠損データ有無：0\n",
      "67 : EnclosedPorch : int64\n",
      "種類：183、最小値：0.000000、最大値：1012.000000、欠損データ有無：0\n",
      "68 : 3SsnPorch : int64\n",
      "種類：31、最小値：0.000000、最大値：508.000000、欠損データ有無：0\n",
      "69 : ScreenPorch : int64\n",
      "種類：121、最小値：0.000000、最大値：576.000000、欠損データ有無：0\n",
      "70 : PoolArea : int64\n",
      "種類：14、最小値：0.000000、最大値：800.000000、欠損データ有無：0\n",
      "71 : PoolQC : object\n",
      "[nan, 'Ex', 'Fa', 'Gd']\n",
      "72 : Fence : object\n",
      "[nan, 'MnPrv', 'GdWo', 'GdPrv', 'MnWw']\n",
      "73 : MiscFeature : object\n",
      "[nan, 'Shed', 'Gar2', 'Othr', 'TenC']\n",
      "74 : MiscVal : int64\n",
      "種類：38、最小値：0.000000、最大値：17000.000000、欠損データ有無：0\n",
      "75 : MoSold : int64\n",
      "種類：12、最小値：1.000000、最大値：12.000000、欠損データ有無：0\n",
      "76 : YrSold : int64\n",
      "種類：5、最小値：2006.000000、最大値：2010.000000、欠損データ有無：0\n",
      "77 : SaleType : object\n",
      "['WD', 'New', 'COD', 'ConLD', 'ConLI', 'CWD', 'ConLw', 'Con', 'Oth', nan]\n",
      "78 : SaleCondition : object\n",
      "['Normal', 'Abnorml', 'Partial', 'AdjLand', 'Alloca', 'Family']\n",
      "79 : Flg : int64\n",
      "種類：2、最小値：0.000000、最大値：1.000000、欠損データ有無：0\n"
     ]
    }
   ],
   "source": [
    "for i in range(x.shape[1]):\n",
    "    print('%d : %s : %s' %(i, x.iloc[:,i].name,x.iloc[:,i].dtypes))\n",
    "\n",
    "    if x.iloc[:,i].dtypes == object:\n",
    "        print(list(x.iloc[:,i].unique()))\n",
    "    else:\n",
    "        print('種類：%d、最小値：%f、最大値：%f、欠損データ有無：%s' %(len(x.iloc[:,i].unique()),x.iloc[:,i].min(),x.iloc[:,i].max(), x.isnull().sum()[i]))"
   ]
  },
  {
   "cell_type": "code",
   "execution_count": 400,
   "metadata": {},
   "outputs": [
    {
     "data": {
      "text/html": [
       "<div>\n",
       "<style scoped>\n",
       "    .dataframe tbody tr th:only-of-type {\n",
       "        vertical-align: middle;\n",
       "    }\n",
       "\n",
       "    .dataframe tbody tr th {\n",
       "        vertical-align: top;\n",
       "    }\n",
       "\n",
       "    .dataframe thead th {\n",
       "        text-align: right;\n",
       "    }\n",
       "</style>\n",
       "<table border=\"1\" class=\"dataframe\">\n",
       "  <thead>\n",
       "    <tr style=\"text-align: right;\">\n",
       "      <th></th>\n",
       "      <th>MSSubClass</th>\n",
       "      <th>LotFrontage</th>\n",
       "      <th>LotArea</th>\n",
       "      <th>OverallQual</th>\n",
       "      <th>OverallCond</th>\n",
       "      <th>YearBuilt</th>\n",
       "      <th>YearRemodAdd</th>\n",
       "      <th>MasVnrArea</th>\n",
       "      <th>BsmtFinSF1</th>\n",
       "      <th>BsmtFinSF2</th>\n",
       "      <th>...</th>\n",
       "      <th>WoodDeckSF</th>\n",
       "      <th>OpenPorchSF</th>\n",
       "      <th>EnclosedPorch</th>\n",
       "      <th>3SsnPorch</th>\n",
       "      <th>ScreenPorch</th>\n",
       "      <th>PoolArea</th>\n",
       "      <th>MiscVal</th>\n",
       "      <th>MoSold</th>\n",
       "      <th>YrSold</th>\n",
       "      <th>Flg</th>\n",
       "    </tr>\n",
       "  </thead>\n",
       "  <tbody>\n",
       "    <tr>\n",
       "      <th>count</th>\n",
       "      <td>2919.000000</td>\n",
       "      <td>2433.000000</td>\n",
       "      <td>2919.000000</td>\n",
       "      <td>2919.000000</td>\n",
       "      <td>2919.000000</td>\n",
       "      <td>2919.000000</td>\n",
       "      <td>2919.000000</td>\n",
       "      <td>2896.000000</td>\n",
       "      <td>2918.000000</td>\n",
       "      <td>2918.000000</td>\n",
       "      <td>...</td>\n",
       "      <td>2919.000000</td>\n",
       "      <td>2919.000000</td>\n",
       "      <td>2919.000000</td>\n",
       "      <td>2919.000000</td>\n",
       "      <td>2919.000000</td>\n",
       "      <td>2919.000000</td>\n",
       "      <td>2919.000000</td>\n",
       "      <td>2919.000000</td>\n",
       "      <td>2919.000000</td>\n",
       "      <td>2919.000000</td>\n",
       "    </tr>\n",
       "    <tr>\n",
       "      <th>mean</th>\n",
       "      <td>57.137718</td>\n",
       "      <td>69.305795</td>\n",
       "      <td>10168.114080</td>\n",
       "      <td>6.089072</td>\n",
       "      <td>5.564577</td>\n",
       "      <td>1971.312778</td>\n",
       "      <td>1984.264474</td>\n",
       "      <td>102.201312</td>\n",
       "      <td>441.423235</td>\n",
       "      <td>49.582248</td>\n",
       "      <td>...</td>\n",
       "      <td>93.709832</td>\n",
       "      <td>47.486811</td>\n",
       "      <td>23.098321</td>\n",
       "      <td>2.602261</td>\n",
       "      <td>16.062350</td>\n",
       "      <td>2.251799</td>\n",
       "      <td>50.825968</td>\n",
       "      <td>6.213087</td>\n",
       "      <td>2007.792737</td>\n",
       "      <td>0.499829</td>\n",
       "    </tr>\n",
       "    <tr>\n",
       "      <th>std</th>\n",
       "      <td>42.517628</td>\n",
       "      <td>23.344905</td>\n",
       "      <td>7886.996359</td>\n",
       "      <td>1.409947</td>\n",
       "      <td>1.113131</td>\n",
       "      <td>30.291442</td>\n",
       "      <td>20.894344</td>\n",
       "      <td>179.334253</td>\n",
       "      <td>455.610826</td>\n",
       "      <td>169.205611</td>\n",
       "      <td>...</td>\n",
       "      <td>126.526589</td>\n",
       "      <td>67.575493</td>\n",
       "      <td>64.244246</td>\n",
       "      <td>25.188169</td>\n",
       "      <td>56.184365</td>\n",
       "      <td>35.663946</td>\n",
       "      <td>567.402211</td>\n",
       "      <td>2.714762</td>\n",
       "      <td>1.314964</td>\n",
       "      <td>0.500086</td>\n",
       "    </tr>\n",
       "    <tr>\n",
       "      <th>min</th>\n",
       "      <td>20.000000</td>\n",
       "      <td>21.000000</td>\n",
       "      <td>1300.000000</td>\n",
       "      <td>1.000000</td>\n",
       "      <td>1.000000</td>\n",
       "      <td>1872.000000</td>\n",
       "      <td>1950.000000</td>\n",
       "      <td>0.000000</td>\n",
       "      <td>0.000000</td>\n",
       "      <td>0.000000</td>\n",
       "      <td>...</td>\n",
       "      <td>0.000000</td>\n",
       "      <td>0.000000</td>\n",
       "      <td>0.000000</td>\n",
       "      <td>0.000000</td>\n",
       "      <td>0.000000</td>\n",
       "      <td>0.000000</td>\n",
       "      <td>0.000000</td>\n",
       "      <td>1.000000</td>\n",
       "      <td>2006.000000</td>\n",
       "      <td>0.000000</td>\n",
       "    </tr>\n",
       "    <tr>\n",
       "      <th>25%</th>\n",
       "      <td>20.000000</td>\n",
       "      <td>59.000000</td>\n",
       "      <td>7478.000000</td>\n",
       "      <td>5.000000</td>\n",
       "      <td>5.000000</td>\n",
       "      <td>1953.500000</td>\n",
       "      <td>1965.000000</td>\n",
       "      <td>0.000000</td>\n",
       "      <td>0.000000</td>\n",
       "      <td>0.000000</td>\n",
       "      <td>...</td>\n",
       "      <td>0.000000</td>\n",
       "      <td>0.000000</td>\n",
       "      <td>0.000000</td>\n",
       "      <td>0.000000</td>\n",
       "      <td>0.000000</td>\n",
       "      <td>0.000000</td>\n",
       "      <td>0.000000</td>\n",
       "      <td>4.000000</td>\n",
       "      <td>2007.000000</td>\n",
       "      <td>0.000000</td>\n",
       "    </tr>\n",
       "    <tr>\n",
       "      <th>50%</th>\n",
       "      <td>50.000000</td>\n",
       "      <td>68.000000</td>\n",
       "      <td>9453.000000</td>\n",
       "      <td>6.000000</td>\n",
       "      <td>5.000000</td>\n",
       "      <td>1973.000000</td>\n",
       "      <td>1993.000000</td>\n",
       "      <td>0.000000</td>\n",
       "      <td>368.500000</td>\n",
       "      <td>0.000000</td>\n",
       "      <td>...</td>\n",
       "      <td>0.000000</td>\n",
       "      <td>26.000000</td>\n",
       "      <td>0.000000</td>\n",
       "      <td>0.000000</td>\n",
       "      <td>0.000000</td>\n",
       "      <td>0.000000</td>\n",
       "      <td>0.000000</td>\n",
       "      <td>6.000000</td>\n",
       "      <td>2008.000000</td>\n",
       "      <td>0.000000</td>\n",
       "    </tr>\n",
       "    <tr>\n",
       "      <th>75%</th>\n",
       "      <td>70.000000</td>\n",
       "      <td>80.000000</td>\n",
       "      <td>11570.000000</td>\n",
       "      <td>7.000000</td>\n",
       "      <td>6.000000</td>\n",
       "      <td>2001.000000</td>\n",
       "      <td>2004.000000</td>\n",
       "      <td>164.000000</td>\n",
       "      <td>733.000000</td>\n",
       "      <td>0.000000</td>\n",
       "      <td>...</td>\n",
       "      <td>168.000000</td>\n",
       "      <td>70.000000</td>\n",
       "      <td>0.000000</td>\n",
       "      <td>0.000000</td>\n",
       "      <td>0.000000</td>\n",
       "      <td>0.000000</td>\n",
       "      <td>0.000000</td>\n",
       "      <td>8.000000</td>\n",
       "      <td>2009.000000</td>\n",
       "      <td>1.000000</td>\n",
       "    </tr>\n",
       "    <tr>\n",
       "      <th>max</th>\n",
       "      <td>190.000000</td>\n",
       "      <td>313.000000</td>\n",
       "      <td>215245.000000</td>\n",
       "      <td>10.000000</td>\n",
       "      <td>9.000000</td>\n",
       "      <td>2010.000000</td>\n",
       "      <td>2010.000000</td>\n",
       "      <td>1600.000000</td>\n",
       "      <td>5644.000000</td>\n",
       "      <td>1526.000000</td>\n",
       "      <td>...</td>\n",
       "      <td>1424.000000</td>\n",
       "      <td>742.000000</td>\n",
       "      <td>1012.000000</td>\n",
       "      <td>508.000000</td>\n",
       "      <td>576.000000</td>\n",
       "      <td>800.000000</td>\n",
       "      <td>17000.000000</td>\n",
       "      <td>12.000000</td>\n",
       "      <td>2010.000000</td>\n",
       "      <td>1.000000</td>\n",
       "    </tr>\n",
       "  </tbody>\n",
       "</table>\n",
       "<p>8 rows × 37 columns</p>\n",
       "</div>"
      ],
      "text/plain": [
       "        MSSubClass  LotFrontage        LotArea  OverallQual  OverallCond  \\\n",
       "count  2919.000000  2433.000000    2919.000000  2919.000000  2919.000000   \n",
       "mean     57.137718    69.305795   10168.114080     6.089072     5.564577   \n",
       "std      42.517628    23.344905    7886.996359     1.409947     1.113131   \n",
       "min      20.000000    21.000000    1300.000000     1.000000     1.000000   \n",
       "25%      20.000000    59.000000    7478.000000     5.000000     5.000000   \n",
       "50%      50.000000    68.000000    9453.000000     6.000000     5.000000   \n",
       "75%      70.000000    80.000000   11570.000000     7.000000     6.000000   \n",
       "max     190.000000   313.000000  215245.000000    10.000000     9.000000   \n",
       "\n",
       "         YearBuilt  YearRemodAdd   MasVnrArea   BsmtFinSF1   BsmtFinSF2  \\\n",
       "count  2919.000000   2919.000000  2896.000000  2918.000000  2918.000000   \n",
       "mean   1971.312778   1984.264474   102.201312   441.423235    49.582248   \n",
       "std      30.291442     20.894344   179.334253   455.610826   169.205611   \n",
       "min    1872.000000   1950.000000     0.000000     0.000000     0.000000   \n",
       "25%    1953.500000   1965.000000     0.000000     0.000000     0.000000   \n",
       "50%    1973.000000   1993.000000     0.000000   368.500000     0.000000   \n",
       "75%    2001.000000   2004.000000   164.000000   733.000000     0.000000   \n",
       "max    2010.000000   2010.000000  1600.000000  5644.000000  1526.000000   \n",
       "\n",
       "          ...        WoodDeckSF  OpenPorchSF  EnclosedPorch    3SsnPorch  \\\n",
       "count     ...       2919.000000  2919.000000    2919.000000  2919.000000   \n",
       "mean      ...         93.709832    47.486811      23.098321     2.602261   \n",
       "std       ...        126.526589    67.575493      64.244246    25.188169   \n",
       "min       ...          0.000000     0.000000       0.000000     0.000000   \n",
       "25%       ...          0.000000     0.000000       0.000000     0.000000   \n",
       "50%       ...          0.000000    26.000000       0.000000     0.000000   \n",
       "75%       ...        168.000000    70.000000       0.000000     0.000000   \n",
       "max       ...       1424.000000   742.000000    1012.000000   508.000000   \n",
       "\n",
       "       ScreenPorch     PoolArea       MiscVal       MoSold       YrSold  \\\n",
       "count  2919.000000  2919.000000   2919.000000  2919.000000  2919.000000   \n",
       "mean     16.062350     2.251799     50.825968     6.213087  2007.792737   \n",
       "std      56.184365    35.663946    567.402211     2.714762     1.314964   \n",
       "min       0.000000     0.000000      0.000000     1.000000  2006.000000   \n",
       "25%       0.000000     0.000000      0.000000     4.000000  2007.000000   \n",
       "50%       0.000000     0.000000      0.000000     6.000000  2008.000000   \n",
       "75%       0.000000     0.000000      0.000000     8.000000  2009.000000   \n",
       "max     576.000000   800.000000  17000.000000    12.000000  2010.000000   \n",
       "\n",
       "               Flg  \n",
       "count  2919.000000  \n",
       "mean      0.499829  \n",
       "std       0.500086  \n",
       "min       0.000000  \n",
       "25%       0.000000  \n",
       "50%       0.000000  \n",
       "75%       1.000000  \n",
       "max       1.000000  \n",
       "\n",
       "[8 rows x 37 columns]"
      ]
     },
     "execution_count": 400,
     "metadata": {},
     "output_type": "execute_result"
    }
   ],
   "source": [
    "x.describe()"
   ]
  },
  {
   "cell_type": "markdown",
   "metadata": {},
   "source": [
    "#### ・数値型に対して欠損値を視覚化 "
   ]
  },
  {
   "cell_type": "code",
   "execution_count": 401,
   "metadata": {},
   "outputs": [
    {
     "data": {
      "text/plain": [
       "<matplotlib.axes._subplots.AxesSubplot at 0x1a20a28cc0>"
      ]
     },
     "execution_count": 401,
     "metadata": {},
     "output_type": "execute_result"
    },
    {
     "data": {
      "image/png": "[encoded data removed]",
      "text/plain": [
       "<Figure size 1440x1008 with 2 Axes>"
      ]
     },
     "metadata": {},
     "output_type": "display_data"
    }
   ],
   "source": [
    "import missingno as msno\n",
    "msno.matrix(df=x.select_dtypes(include=[int, float, 'datetime']), figsize=(20,14), color=(0.3,0,0.3))"
   ]
  },
  {
   "cell_type": "code",
   "execution_count": 402,
   "metadata": {},
   "outputs": [
    {
     "data": {
      "text/html": [
       "<div>\n",
       "<style scoped>\n",
       "    .dataframe tbody tr th:only-of-type {\n",
       "        vertical-align: middle;\n",
       "    }\n",
       "\n",
       "    .dataframe tbody tr th {\n",
       "        vertical-align: top;\n",
       "    }\n",
       "\n",
       "    .dataframe thead th {\n",
       "        text-align: right;\n",
       "    }\n",
       "</style>\n",
       "<table border=\"1\" class=\"dataframe\">\n",
       "  <thead>\n",
       "    <tr style=\"text-align: right;\">\n",
       "      <th></th>\n",
       "      <th>MSSubClass</th>\n",
       "      <th>MSZoning</th>\n",
       "      <th>LotFrontage</th>\n",
       "      <th>LotArea</th>\n",
       "      <th>Street</th>\n",
       "      <th>Alley</th>\n",
       "      <th>LotShape</th>\n",
       "      <th>LandContour</th>\n",
       "      <th>Utilities</th>\n",
       "      <th>LotConfig</th>\n",
       "      <th>...</th>\n",
       "      <th>PoolArea</th>\n",
       "      <th>PoolQC</th>\n",
       "      <th>Fence</th>\n",
       "      <th>MiscFeature</th>\n",
       "      <th>MiscVal</th>\n",
       "      <th>MoSold</th>\n",
       "      <th>YrSold</th>\n",
       "      <th>SaleType</th>\n",
       "      <th>SaleCondition</th>\n",
       "      <th>Flg</th>\n",
       "    </tr>\n",
       "  </thead>\n",
       "  <tbody>\n",
       "    <tr>\n",
       "      <th>False</th>\n",
       "      <td>2919</td>\n",
       "      <td>2915</td>\n",
       "      <td>2433</td>\n",
       "      <td>2919</td>\n",
       "      <td>2919</td>\n",
       "      <td>198</td>\n",
       "      <td>2919</td>\n",
       "      <td>2919</td>\n",
       "      <td>2917</td>\n",
       "      <td>2919</td>\n",
       "      <td>...</td>\n",
       "      <td>2919</td>\n",
       "      <td>10</td>\n",
       "      <td>571</td>\n",
       "      <td>105</td>\n",
       "      <td>2919</td>\n",
       "      <td>2919</td>\n",
       "      <td>2919</td>\n",
       "      <td>2918</td>\n",
       "      <td>2919</td>\n",
       "      <td>2919</td>\n",
       "    </tr>\n",
       "    <tr>\n",
       "      <th>True</th>\n",
       "      <td>0</td>\n",
       "      <td>4</td>\n",
       "      <td>486</td>\n",
       "      <td>0</td>\n",
       "      <td>0</td>\n",
       "      <td>2721</td>\n",
       "      <td>0</td>\n",
       "      <td>0</td>\n",
       "      <td>2</td>\n",
       "      <td>0</td>\n",
       "      <td>...</td>\n",
       "      <td>0</td>\n",
       "      <td>2909</td>\n",
       "      <td>2348</td>\n",
       "      <td>2814</td>\n",
       "      <td>0</td>\n",
       "      <td>0</td>\n",
       "      <td>0</td>\n",
       "      <td>1</td>\n",
       "      <td>0</td>\n",
       "      <td>0</td>\n",
       "    </tr>\n",
       "  </tbody>\n",
       "</table>\n",
       "<p>2 rows × 80 columns</p>\n",
       "</div>"
      ],
      "text/plain": [
       "       MSSubClass  MSZoning  LotFrontage  LotArea  Street  Alley  LotShape  \\\n",
       "False        2919      2915         2433     2919    2919    198      2919   \n",
       "True            0         4          486        0       0   2721         0   \n",
       "\n",
       "       LandContour  Utilities  LotConfig  ...   PoolArea  PoolQC  Fence  \\\n",
       "False         2919       2917       2919  ...       2919      10    571   \n",
       "True             0          2          0  ...          0    2909   2348   \n",
       "\n",
       "       MiscFeature  MiscVal  MoSold  YrSold  SaleType  SaleCondition   Flg  \n",
       "False          105     2919    2919    2919      2918           2919  2919  \n",
       "True          2814        0       0       0         1              0     0  \n",
       "\n",
       "[2 rows x 80 columns]"
      ]
     },
     "execution_count": 402,
     "metadata": {},
     "output_type": "execute_result"
    }
   ],
   "source": [
    "x.isnull().apply(lambda cl:cl.value_counts()).fillna(0).astype(int)"
   ]
  },
  {
   "cell_type": "markdown",
   "metadata": {},
   "source": [
    "### 3.データの加工\n",
    "- 欠損値の補完\n",
    "- 特徴のマージ\n",
    "- One-hot-vectorの作成\n",
    "- trainデータとtestデータの分割\n",
    "- ターゲットの標準化"
   ]
  },
  {
   "cell_type": "markdown",
   "metadata": {},
   "source": [
    "#### ・欠損値の多い項目を取得する"
   ]
  },
  {
   "cell_type": "code",
   "execution_count": 403,
   "metadata": {},
   "outputs": [
    {
     "name": "stdout",
     "output_type": "stream",
     "text": [
      "2919\n",
      "MSZoning  object  4\n",
      "LotFrontage  float64  486\n",
      "Alley  object  2721\n",
      "Utilities  object  2\n",
      "Exterior1st  object  1\n",
      "Exterior2nd  object  1\n",
      "MasVnrType  object  24\n",
      "MasVnrArea  float64  23\n",
      "BsmtQual  object  81\n",
      "BsmtCond  object  82\n",
      "BsmtExposure  object  82\n",
      "BsmtFinType1  object  79\n",
      "BsmtFinSF1  float64  1\n",
      "BsmtFinType2  object  80\n",
      "BsmtFinSF2  float64  1\n",
      "BsmtUnfSF  float64  1\n",
      "TotalBsmtSF  float64  1\n",
      "Electrical  object  1\n",
      "BsmtFullBath  float64  2\n",
      "BsmtHalfBath  float64  2\n",
      "KitchenQual  object  1\n",
      "Functional  object  2\n",
      "FireplaceQu  object  1420\n",
      "GarageType  object  157\n",
      "GarageYrBlt  float64  159\n",
      "GarageFinish  object  159\n",
      "GarageCars  float64  1\n",
      "GarageArea  float64  1\n",
      "GarageQual  object  159\n",
      "GarageCond  object  159\n",
      "PoolQC  object  2909\n",
      "Fence  object  2348\n",
      "MiscFeature  object  2814\n",
      "SaleType  object  1\n"
     ]
    }
   ],
   "source": [
    "print(len(x))\n",
    "for i in range(x.shape[1]):\n",
    "    if x.iloc[:,i].isnull().sum() != 0:\n",
    "        print('%s  %s  %d' %(x.iloc[:,i].name,x.iloc[:,i].dtype,x.iloc[:,i].isnull().sum()))"
   ]
  },
  {
   "cell_type": "markdown",
   "metadata": {},
   "source": [
    "#### ・欠損値の多い項目は特徴から削除する"
   ]
  },
  {
   "cell_type": "code",
   "execution_count": 404,
   "metadata": {},
   "outputs": [],
   "source": [
    "x_rm_missing = x.drop(['Alley','FireplaceQu','PoolQC','Fence','MiscFeature'],axis=1)"
   ]
  },
  {
   "cell_type": "markdown",
   "metadata": {},
   "source": [
    "#### ・数値型の欠損値を中央値で保管する"
   ]
  },
  {
   "cell_type": "code",
   "execution_count": 405,
   "metadata": {},
   "outputs": [],
   "source": [
    "x_rm_missing.fillna(x_rm_missing.median(),inplace=True)"
   ]
  },
  {
   "cell_type": "markdown",
   "metadata": {},
   "source": [
    "#### ・特徴をマージする"
   ]
  },
  {
   "cell_type": "code",
   "execution_count": 406,
   "metadata": {},
   "outputs": [],
   "source": [
    "s = [s for s in list(x_rm_missing.columns.values) if 'SF' in s]"
   ]
  },
  {
   "cell_type": "code",
   "execution_count": 407,
   "metadata": {},
   "outputs": [],
   "source": [
    "x_rm_missing['Total_SF'] = 0\n",
    "for i in s :\n",
    "    x_rm_missing['Total_SF'] = x_rm_missing['Total_SF'] + x_rm_missing[i]\n",
    "    x_rm_missing.drop(i,axis=1,inplace=True)"
   ]
  },
  {
   "cell_type": "markdown",
   "metadata": {},
   "source": [
    "#### ・項目をリスト値変換する"
   ]
  },
  {
   "cell_type": "code",
   "execution_count": 408,
   "metadata": {},
   "outputs": [
    {
     "data": {
      "text/plain": [
       "0       1\n",
       "1       1\n",
       "2       1\n",
       "3       1\n",
       "4       1\n",
       "5       1\n",
       "6       1\n",
       "7       1\n",
       "8       1\n",
       "9       1\n",
       "10      1\n",
       "11      1\n",
       "12      1\n",
       "13      1\n",
       "14      1\n",
       "15      1\n",
       "16      1\n",
       "17      1\n",
       "18      1\n",
       "19      1\n",
       "20      1\n",
       "21      1\n",
       "22      1\n",
       "23      1\n",
       "24      1\n",
       "25      1\n",
       "26      1\n",
       "27      1\n",
       "28      1\n",
       "29      0\n",
       "       ..\n",
       "1429    1\n",
       "1430    1\n",
       "1431    0\n",
       "1432    0\n",
       "1433    0\n",
       "1434    1\n",
       "1435    1\n",
       "1436    1\n",
       "1437    1\n",
       "1438    1\n",
       "1439    1\n",
       "1440    1\n",
       "1441    1\n",
       "1442    1\n",
       "1443    1\n",
       "1444    1\n",
       "1445    1\n",
       "1446    1\n",
       "1447    1\n",
       "1448    1\n",
       "1449    1\n",
       "1450    1\n",
       "1451    1\n",
       "1452    1\n",
       "1453    1\n",
       "1454    1\n",
       "1455    1\n",
       "1456    1\n",
       "1457    1\n",
       "1458    1\n",
       "Name: CentralAir, Length: 2919, dtype: int64"
      ]
     },
     "execution_count": 408,
     "metadata": {},
     "output_type": "execute_result"
    }
   ],
   "source": [
    "value_mapping = {'N':0, 'Y':1}\n",
    "x_rm_missing['CentralAir'] = x_rm_missing['CentralAir'].map(value_mapping)"
   ]
  },
  {
   "cell_type": "markdown",
   "metadata": {},
   "source": [
    "#### ・One-hot-vectorに変換"
   ]
  },
  {
   "cell_type": "code",
   "execution_count": 409,
   "metadata": {},
   "outputs": [],
   "source": [
    "# col_name = list(x.select_dtypes(include=[object]).columns.values)\n",
    "# x_Ohe = pd.get_dummies(x, columns=col_name,dummy_na=True)\n",
    "x_Ohe = pd.get_dummies(x_rm_missing)"
   ]
  },
  {
   "cell_type": "markdown",
   "metadata": {},
   "source": [
    "#### ・オブジェクトをラベルに変換"
   ]
  },
  {
   "cell_type": "code",
   "execution_count": 410,
   "metadata": {},
   "outputs": [],
   "source": [
    "# from sklearn.preprocessing import LabelEncoder\n",
    "# for i in range(train.shape[1]):\n",
    "#     if train.iloc[:,i].dtypes == object:\n",
    "#         lbl = LabelEncoder()\n",
    "#         lbl.fit(list(train.iloc[:,i].values) + list(test.iloc[:,i].values))\n",
    "#         train.iloc[:,i] = lbl.transform(list(train.iloc[:,i].values))\n",
    "#         test.iloc[:,i] = lbl.transform(list(test.iloc[:,i].values))        "
   ]
  },
  {
   "cell_type": "markdown",
   "metadata": {},
   "source": [
    "#### ・trainデータとtestデータに分割する"
   ]
  },
  {
   "cell_type": "code",
   "execution_count": 411,
   "metadata": {},
   "outputs": [],
   "source": [
    "x_ohe_train = x_Ohe[x_Ohe['Flg'] == 0].drop('Flg',axis=1)\n",
    "x_ohe_test = x_Ohe[x_Ohe['Flg'] == 1].drop('Flg',axis=1)"
   ]
  },
  {
   "cell_type": "markdown",
   "metadata": {},
   "source": [
    "#### ・ターゲットが正規分布に従っているか確認する"
   ]
  },
  {
   "cell_type": "code",
   "execution_count": 412,
   "metadata": {},
   "outputs": [
    {
     "name": "stderr",
     "output_type": "stream",
     "text": [
      "/anaconda3/lib/python3.6/site-packages/matplotlib/axes/_axes.py:6462: UserWarning: The 'normed' kwarg is deprecated, and has been replaced by the 'density' kwarg.\n",
      "  warnings.warn(\"The 'normed' kwarg is deprecated, and has been \"\n"
     ]
    },
    {
     "data": {
      "image/png": "[encoded data removed]",
      "text/plain": [
       "<Figure size 432x288 with 1 Axes>"
      ]
     },
     "metadata": {},
     "output_type": "display_data"
    }
   ],
   "source": [
    "sns.distplot(y_train)\n",
    "plt.show()"
   ]
  },
  {
   "cell_type": "markdown",
   "metadata": {},
   "source": [
    "#### ・正規分布に従うようにlogに入れる"
   ]
  },
  {
   "cell_type": "code",
   "execution_count": 413,
   "metadata": {},
   "outputs": [
    {
     "name": "stderr",
     "output_type": "stream",
     "text": [
      "/anaconda3/lib/python3.6/site-packages/matplotlib/axes/_axes.py:6462: UserWarning: The 'normed' kwarg is deprecated, and has been replaced by the 'density' kwarg.\n",
      "  warnings.warn(\"The 'normed' kwarg is deprecated, and has been \"\n"
     ]
    },
    {
     "data": {
      "image/png": "[encoded data removed]",
      "text/plain": [
       "<Figure size 432x288 with 1 Axes>"
      ]
     },
     "metadata": {},
     "output_type": "display_data"
    }
   ],
   "source": [
    "y_train_norm = np.log(y_train)\n",
    "sns.distplot(y_train_norm)\n",
    "plt.show()"
   ]
  },
  {
   "cell_type": "markdown",
   "metadata": {},
   "source": [
    "### 4. 学習器の作成と評価\n",
    "- ホールドアウトによる学習用データ、検証用データの分割\n",
    "- ランダムフォレストによる予測モデル作成\n",
    "- 作成したモデルによる予測値算出\n",
    "- RMSEによるモデル評価"
   ]
  },
  {
   "cell_type": "markdown",
   "metadata": {},
   "source": [
    "#### ・ホールドアウトによる学習用データ、検証用データの分割"
   ]
  },
  {
   "cell_type": "code",
   "execution_count": 414,
   "metadata": {},
   "outputs": [],
   "source": [
    "from sklearn.model_selection import train_test_split\n",
    "(X_train, X_test, Y_train, Y_test) = train_test_split(x_ohe_train, y_train_norm,test_size =0.2, random_state=0)"
   ]
  },
  {
   "cell_type": "markdown",
   "metadata": {},
   "source": [
    "#### ・random forestを使用する"
   ]
  },
  {
   "cell_type": "code",
   "execution_count": 417,
   "metadata": {},
   "outputs": [
    {
     "data": {
      "text/plain": [
       "RandomForestRegressor(bootstrap=True, criterion='mse', max_depth=3,\n",
       "           max_features='auto', max_leaf_nodes=None,\n",
       "           min_impurity_decrease=0.0, min_impurity_split=None,\n",
       "           min_samples_leaf=1, min_samples_split=2,\n",
       "           min_weight_fraction_leaf=0.0, n_estimators=100, n_jobs=1,\n",
       "           oob_score=False, random_state=None, verbose=0, warm_start=False)"
      ]
     },
     "execution_count": 417,
     "metadata": {},
     "output_type": "execute_result"
    }
   ],
   "source": [
    "from sklearn.ensemble import RandomForestRegressor\n",
    "rf = RandomForestRegressor(n_estimators=100, max_features='auto',max_depth = 3)\n",
    "rf.fit(X_train, Y_train)"
   ]
  },
  {
   "cell_type": "markdown",
   "metadata": {},
   "source": [
    "#### ・MSEを計算する"
   ]
  },
  {
   "cell_type": "code",
   "execution_count": 418,
   "metadata": {},
   "outputs": [
    {
     "data": {
      "text/plain": [
       "35757.08237764982"
      ]
     },
     "metadata": {},
     "output_type": "display_data"
    },
    {
     "data": {
      "text/plain": [
       "42060.52823855146"
      ]
     },
     "metadata": {},
     "output_type": "display_data"
    }
   ],
   "source": [
    "from sklearn.metrics import mean_squared_error\n",
    "display(np.sqrt(mean_squared_error(np.exp(Y_train), np.exp(rf.predict(X_train)))))\n",
    "display(np.sqrt(mean_squared_error(np.exp(Y_test), np.exp(rf.predict(X_test)))))"
   ]
  },
  {
   "cell_type": "markdown",
   "metadata": {},
   "source": [
    "#### ・特徴の重要度を確認する"
   ]
  },
  {
   "cell_type": "code",
   "execution_count": 419,
   "metadata": {},
   "outputs": [],
   "source": [
    "feature=rf.feature_importances_\n",
    "f = pd.DataFrame({'number': range(len(feature)),'name':X_train.columns.values,\n",
    "             'feature': feature[:]}).sort_values('feature',ascending=False)"
   ]
  },
  {
   "cell_type": "code",
   "execution_count": 437,
   "metadata": {},
   "outputs": [
    {
     "data": {
      "text/plain": [
       "3        3\n",
       "28      28\n",
       "8        8\n",
       "19      19\n",
       "9        9\n",
       "5        5\n",
       "20      20\n",
       "29      29\n",
       "229    229\n",
       "33      33\n",
       "173    173\n",
       "4        4\n",
       "6        6\n",
       "242    242\n",
       "13      13\n",
       "63      63\n",
       "7        7\n",
       "243    243\n",
       "175    175\n",
       "214    214\n",
       "Name: number, dtype: object"
      ]
     },
     "execution_count": 437,
     "metadata": {},
     "output_type": "execute_result"
    }
   ],
   "source": [
    "f['number'].head(20).astype(str)"
   ]
  },
  {
   "cell_type": "code",
   "execution_count": 439,
   "metadata": {},
   "outputs": [
    {
     "data": {
      "image/png": "[encoded data removed]",
      "text/plain": [
       "<Figure size 432x288 with 1 Axes>"
      ]
     },
     "metadata": {},
     "output_type": "display_data"
    }
   ],
   "source": [
    "sns.barplot(x=f['feature'].head(20),y=f['number'].head(20).astype(str)+' '+f['name'].head(20))\n",
    "plt.show()"
   ]
  },
  {
   "cell_type": "code",
   "execution_count": null,
   "metadata": {},
   "outputs": [],
   "source": []
  }
 ],
 "metadata": {
  "kernelspec": {
   "display_name": "Python 3",
   "language": "python",
   "name": "python3"
  },
  "language_info": {
   "codemirror_mode": {
    "name": "ipython",
    "version": 3
   },
   "file_extension": ".py",
   "mimetype": "text/x-python",
   "name": "python",
   "nbconvert_exporter": "python",
   "pygments_lexer": "ipython3",
   "version": "3.6.5"
  }
 },
 "nbformat": 4,
 "nbformat_minor": 2
}
